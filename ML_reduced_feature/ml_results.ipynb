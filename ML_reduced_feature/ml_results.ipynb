{
 "cells": [
  {
   "cell_type": "code",
   "id": "initial_id",
   "metadata": {
    "collapsed": true,
    "ExecuteTime": {
     "end_time": "2024-12-03T02:44:29.715873Z",
     "start_time": "2024-12-03T02:44:24.531967Z"
    }
   },
   "source": [
    "from sklearn.preprocessing import StandardScaler\n",
    "from function import metrics_to_dataframe, plot_actual_vs_predicted\n",
    "import pandas as pd\n",
    "from function import split_data\n",
    "import optuna\n",
    "from sklearn.model_selection import cross_val_score\n",
    "\n",
    "# 读取数据\n",
    "data = pd.read_csv(\"../data/dataset_reduced.csv\")\n",
    "X_train, X_test, y_train, y_test = split_data(data, 'Cs')\n",
    "\n",
    "# 数据标准化\n",
    "scaler = StandardScaler()\n",
    "X_train_scaled = scaler.fit_transform(X_train)\n",
    "X_test_scaled = scaler.transform(X_test)"
   ],
   "outputs": [],
   "execution_count": 1
  },
  {
   "metadata": {
    "ExecuteTime": {
     "end_time": "2024-12-03T02:44:29.746626Z",
     "start_time": "2024-12-03T02:44:29.726876Z"
    }
   },
   "cell_type": "code",
   "source": [
    "# 线性回归 Linear Regression\n",
    "from sklearn.linear_model import LinearRegression\n",
    "\n",
    "lr = LinearRegression()\n",
    "lr.fit(X_train, y_train)\n",
    "y_train_pred_lr = lr.predict(X_train)\n",
    "y_test_pred_lr = lr.predict(X_test)\n",
    "lr_metrics = metrics_to_dataframe(y_train, y_train_pred_lr, y_test, y_test_pred_lr, 'Linear Regression')\n",
    "lr_metrics"
   ],
   "id": "c88a1da1727e5f57",
   "outputs": [
    {
     "data": {
      "text/plain": [
       "               model  R2_train  MAE_train  MAPE_train  RMSE_train   R2_test  \\\n",
       "0  Linear Regression  0.421558  22.900748   34.682054   30.511129  0.547166   \n",
       "\n",
       "    MAE_test  MAPE_test  RMSE_test  \n",
       "0  19.912334  37.042903  27.922848  "
      ],
      "text/html": [
       "<div>\n",
       "<style scoped>\n",
       "    .dataframe tbody tr th:only-of-type {\n",
       "        vertical-align: middle;\n",
       "    }\n",
       "\n",
       "    .dataframe tbody tr th {\n",
       "        vertical-align: top;\n",
       "    }\n",
       "\n",
       "    .dataframe thead th {\n",
       "        text-align: right;\n",
       "    }\n",
       "</style>\n",
       "<table border=\"1\" class=\"dataframe\">\n",
       "  <thead>\n",
       "    <tr style=\"text-align: right;\">\n",
       "      <th></th>\n",
       "      <th>model</th>\n",
       "      <th>R2_train</th>\n",
       "      <th>MAE_train</th>\n",
       "      <th>MAPE_train</th>\n",
       "      <th>RMSE_train</th>\n",
       "      <th>R2_test</th>\n",
       "      <th>MAE_test</th>\n",
       "      <th>MAPE_test</th>\n",
       "      <th>RMSE_test</th>\n",
       "    </tr>\n",
       "  </thead>\n",
       "  <tbody>\n",
       "    <tr>\n",
       "      <th>0</th>\n",
       "      <td>Linear Regression</td>\n",
       "      <td>0.421558</td>\n",
       "      <td>22.900748</td>\n",
       "      <td>34.682054</td>\n",
       "      <td>30.511129</td>\n",
       "      <td>0.547166</td>\n",
       "      <td>19.912334</td>\n",
       "      <td>37.042903</td>\n",
       "      <td>27.922848</td>\n",
       "    </tr>\n",
       "  </tbody>\n",
       "</table>\n",
       "</div>"
      ]
     },
     "execution_count": 2,
     "metadata": {},
     "output_type": "execute_result"
    }
   ],
   "execution_count": 2
  },
  {
   "metadata": {
    "ExecuteTime": {
     "end_time": "2024-12-03T02:44:30.075388Z",
     "start_time": "2024-12-03T02:44:30.044182Z"
    }
   },
   "cell_type": "code",
   "source": [
    "# 支持向量回归Support Vector Regression\n",
    "from sklearn.svm import SVR\n",
    "\n",
    "svr_params = {\n",
    "    'kernel': 'poly',\n",
    "    'degree': 6,\n",
    "    'gamma': 'scale',\n",
    "    'coef0': 3,\n",
    "    'epsilon': 10,\n",
    "    'verbose': True,\n",
    "    'C': 0.5\n",
    "}\n",
    "\n",
    "svr = SVR(**svr_params)\n",
    "svr.fit(X_train_scaled, y_train)\n",
    "y_train_pred_svr = svr.predict(X_train_scaled)\n",
    "y_test_pred_svr = svr.predict(X_test_scaled)\n",
    "svr_metrics = metrics_to_dataframe(y_train, y_train_pred_svr, y_test, y_test_pred_svr, 'Support Vector Regression')\n",
    "svr_metrics"
   ],
   "id": "3681ce7f76e72a29",
   "outputs": [
    {
     "name": "stdout",
     "output_type": "stream",
     "text": [
      "[LibSVM]"
     ]
    },
    {
     "data": {
      "text/plain": [
       "                       model  R2_train  MAE_train  MAPE_train  RMSE_train  \\\n",
       "0  Support Vector Regression  0.852376  10.862432   14.656757   15.413714   \n",
       "\n",
       "    R2_test   MAE_test  MAPE_test  RMSE_test  \n",
       "0  0.868775  11.107893  17.472105  15.031371  "
      ],
      "text/html": [
       "<div>\n",
       "<style scoped>\n",
       "    .dataframe tbody tr th:only-of-type {\n",
       "        vertical-align: middle;\n",
       "    }\n",
       "\n",
       "    .dataframe tbody tr th {\n",
       "        vertical-align: top;\n",
       "    }\n",
       "\n",
       "    .dataframe thead th {\n",
       "        text-align: right;\n",
       "    }\n",
       "</style>\n",
       "<table border=\"1\" class=\"dataframe\">\n",
       "  <thead>\n",
       "    <tr style=\"text-align: right;\">\n",
       "      <th></th>\n",
       "      <th>model</th>\n",
       "      <th>R2_train</th>\n",
       "      <th>MAE_train</th>\n",
       "      <th>MAPE_train</th>\n",
       "      <th>RMSE_train</th>\n",
       "      <th>R2_test</th>\n",
       "      <th>MAE_test</th>\n",
       "      <th>MAPE_test</th>\n",
       "      <th>RMSE_test</th>\n",
       "    </tr>\n",
       "  </thead>\n",
       "  <tbody>\n",
       "    <tr>\n",
       "      <th>0</th>\n",
       "      <td>Support Vector Regression</td>\n",
       "      <td>0.852376</td>\n",
       "      <td>10.862432</td>\n",
       "      <td>14.656757</td>\n",
       "      <td>15.413714</td>\n",
       "      <td>0.868775</td>\n",
       "      <td>11.107893</td>\n",
       "      <td>17.472105</td>\n",
       "      <td>15.031371</td>\n",
       "    </tr>\n",
       "  </tbody>\n",
       "</table>\n",
       "</div>"
      ]
     },
     "execution_count": 3,
     "metadata": {},
     "output_type": "execute_result"
    }
   ],
   "execution_count": 3
  },
  {
   "metadata": {
    "ExecuteTime": {
     "end_time": "2024-12-03T02:58:17.961296Z",
     "start_time": "2024-12-03T02:58:17.891078Z"
    }
   },
   "cell_type": "code",
   "source": [
    "# 随机森林 Random Forest\n",
    "from sklearn.ensemble import RandomForestRegressor\n",
    "\n",
    "rf_params = {\n",
    "    'n_estimators': 50,\n",
    "    'max_depth': 12,\n",
    "    'min_samples_split': 2,\n",
    "    'min_samples_leaf': 1,\n",
    "    'max_features': 0.5,\n",
    "    'random_state': 21\n",
    "}\n",
    "rf = RandomForestRegressor(**rf_params)\n",
    "rf.fit(X_train, y_train)\n",
    "y_train_pred_rf = rf.predict(X_train)\n",
    "y_test_pred_rf = rf.predict(X_test)\n",
    "rf_metrics = metrics_to_dataframe(y_train, y_train_pred_rf, y_test, y_test_pred_rf, 'Random Forest')\n",
    "rf_metrics"
   ],
   "id": "fabe8c5808fad280",
   "outputs": [
    {
     "data": {
      "text/plain": [
       "           model  R2_train  MAE_train  MAPE_train  RMSE_train   R2_test  \\\n",
       "0  Random Forest  0.987623   2.984936    4.127428    4.463032  0.947415   \n",
       "\n",
       "   MAE_test  MAPE_test  RMSE_test  \n",
       "0  6.913925  10.246498   9.515234  "
      ],
      "text/html": [
       "<div>\n",
       "<style scoped>\n",
       "    .dataframe tbody tr th:only-of-type {\n",
       "        vertical-align: middle;\n",
       "    }\n",
       "\n",
       "    .dataframe tbody tr th {\n",
       "        vertical-align: top;\n",
       "    }\n",
       "\n",
       "    .dataframe thead th {\n",
       "        text-align: right;\n",
       "    }\n",
       "</style>\n",
       "<table border=\"1\" class=\"dataframe\">\n",
       "  <thead>\n",
       "    <tr style=\"text-align: right;\">\n",
       "      <th></th>\n",
       "      <th>model</th>\n",
       "      <th>R2_train</th>\n",
       "      <th>MAE_train</th>\n",
       "      <th>MAPE_train</th>\n",
       "      <th>RMSE_train</th>\n",
       "      <th>R2_test</th>\n",
       "      <th>MAE_test</th>\n",
       "      <th>MAPE_test</th>\n",
       "      <th>RMSE_test</th>\n",
       "    </tr>\n",
       "  </thead>\n",
       "  <tbody>\n",
       "    <tr>\n",
       "      <th>0</th>\n",
       "      <td>Random Forest</td>\n",
       "      <td>0.987623</td>\n",
       "      <td>2.984936</td>\n",
       "      <td>4.127428</td>\n",
       "      <td>4.463032</td>\n",
       "      <td>0.947415</td>\n",
       "      <td>6.913925</td>\n",
       "      <td>10.246498</td>\n",
       "      <td>9.515234</td>\n",
       "    </tr>\n",
       "  </tbody>\n",
       "</table>\n",
       "</div>"
      ]
     },
     "execution_count": 124,
     "metadata": {},
     "output_type": "execute_result"
    }
   ],
   "execution_count": 124
  },
  {
   "metadata": {
    "ExecuteTime": {
     "end_time": "2024-12-03T02:54:35.504775Z",
     "start_time": "2024-12-03T02:54:35.357556Z"
    }
   },
   "cell_type": "code",
   "source": [
    "# XGBoost\n",
    "from xgboost import XGBRegressor\n",
    "xgb_params = {\n",
    "    'n_estimators': 300,\n",
    "    'learning_rate': 0.17,\n",
    "    'max_depth': 8,\n",
    "    'min_child_weight': 5,\n",
    "    'subsample': 0.5,\n",
    "    'gamma': 0.05,\n",
    "    'reg_alpha': 0.8,\n",
    "    'reg_lambda': 5,\n",
    "    'colsample_bytree': 0.6,\n",
    "    'colsample_bylevel': 1,\n",
    "    'colsample_bynode': 1,\n",
    "    'random_state': 21\n",
    "}\n",
    "xgb = XGBRegressor(**xgb_params)\n",
    "xgb.fit(X_train, y_train)\n",
    "y_train_pred_xgb = xgb.predict(X_train)\n",
    "y_test_pred_xgb = xgb.predict(X_test)\n",
    "xgb_metrics = metrics_to_dataframe(y_train, y_train_pred_xgb, y_test, y_test_pred_xgb, 'XGBoost')\n",
    "xgb_metrics"
   ],
   "id": "8b3bf01aac7f87ea",
   "outputs": [
    {
     "data": {
      "text/plain": [
       "     model  R2_train  MAE_train  MAPE_train  RMSE_train   R2_test  MAE_test  \\\n",
       "0  XGBoost  0.996976    1.43701    1.938355    2.205923  0.982383   4.06983   \n",
       "\n",
       "   MAPE_test  RMSE_test  \n",
       "0   6.243979   5.507518  "
      ],
      "text/html": [
       "<div>\n",
       "<style scoped>\n",
       "    .dataframe tbody tr th:only-of-type {\n",
       "        vertical-align: middle;\n",
       "    }\n",
       "\n",
       "    .dataframe tbody tr th {\n",
       "        vertical-align: top;\n",
       "    }\n",
       "\n",
       "    .dataframe thead th {\n",
       "        text-align: right;\n",
       "    }\n",
       "</style>\n",
       "<table border=\"1\" class=\"dataframe\">\n",
       "  <thead>\n",
       "    <tr style=\"text-align: right;\">\n",
       "      <th></th>\n",
       "      <th>model</th>\n",
       "      <th>R2_train</th>\n",
       "      <th>MAE_train</th>\n",
       "      <th>MAPE_train</th>\n",
       "      <th>RMSE_train</th>\n",
       "      <th>R2_test</th>\n",
       "      <th>MAE_test</th>\n",
       "      <th>MAPE_test</th>\n",
       "      <th>RMSE_test</th>\n",
       "    </tr>\n",
       "  </thead>\n",
       "  <tbody>\n",
       "    <tr>\n",
       "      <th>0</th>\n",
       "      <td>XGBoost</td>\n",
       "      <td>0.996976</td>\n",
       "      <td>1.43701</td>\n",
       "      <td>1.938355</td>\n",
       "      <td>2.205923</td>\n",
       "      <td>0.982383</td>\n",
       "      <td>4.06983</td>\n",
       "      <td>6.243979</td>\n",
       "      <td>5.507518</td>\n",
       "    </tr>\n",
       "  </tbody>\n",
       "</table>\n",
       "</div>"
      ]
     },
     "execution_count": 86,
     "metadata": {},
     "output_type": "execute_result"
    }
   ],
   "execution_count": 86
  },
  {
   "metadata": {
    "ExecuteTime": {
     "end_time": "2024-12-03T03:55:43.965241Z",
     "start_time": "2024-12-03T03:55:43.912257Z"
    }
   },
   "cell_type": "code",
   "source": [
    "# LightGBM\n",
    "from lightgbm import LGBMRegressor\n",
    "\n",
    "lgbm_params = {\n",
    "    'n_estimators': 300,\n",
    "    'learning_rate': 0.18,\n",
    "    'max_depth': 5,\n",
    "    'min_child_samples': 2,\n",
    "    'colsample_bytree': 0.3,\n",
    "    'num_leaves': 31,\n",
    "    'reg_alpha': 0.6,\n",
    "    'reg_lambda': 0,\n",
    "    'verbose': -1,\n",
    "    'random_state': 21\n",
    "}\n",
    "\n",
    "lgbm = LGBMRegressor(**lgbm_params)\n",
    "lgbm.fit(X_train, y_train)\n",
    "y_train_pred_lgbm = lgbm.predict(X_train)\n",
    "y_test_pred_lgbm = lgbm.predict(X_test)\n",
    "lgbm_metrics = metrics_to_dataframe(y_train, y_train_pred_lgbm, y_test, y_test_pred_lgbm, 'LightGBM')\n",
    "lgbm_metrics"
   ],
   "id": "1f1e9b95184b126d",
   "outputs": [
    {
     "data": {
      "text/plain": [
       "      model  R2_train  MAE_train  MAPE_train  RMSE_train   R2_test  MAE_test  \\\n",
       "0  LightGBM   0.99856   1.117106    1.498665     1.52208  0.986155  3.618184   \n",
       "\n",
       "   MAPE_test  RMSE_test  \n",
       "0    5.91515   4.882483  "
      ],
      "text/html": [
       "<div>\n",
       "<style scoped>\n",
       "    .dataframe tbody tr th:only-of-type {\n",
       "        vertical-align: middle;\n",
       "    }\n",
       "\n",
       "    .dataframe tbody tr th {\n",
       "        vertical-align: top;\n",
       "    }\n",
       "\n",
       "    .dataframe thead th {\n",
       "        text-align: right;\n",
       "    }\n",
       "</style>\n",
       "<table border=\"1\" class=\"dataframe\">\n",
       "  <thead>\n",
       "    <tr style=\"text-align: right;\">\n",
       "      <th></th>\n",
       "      <th>model</th>\n",
       "      <th>R2_train</th>\n",
       "      <th>MAE_train</th>\n",
       "      <th>MAPE_train</th>\n",
       "      <th>RMSE_train</th>\n",
       "      <th>R2_test</th>\n",
       "      <th>MAE_test</th>\n",
       "      <th>MAPE_test</th>\n",
       "      <th>RMSE_test</th>\n",
       "    </tr>\n",
       "  </thead>\n",
       "  <tbody>\n",
       "    <tr>\n",
       "      <th>0</th>\n",
       "      <td>LightGBM</td>\n",
       "      <td>0.99856</td>\n",
       "      <td>1.117106</td>\n",
       "      <td>1.498665</td>\n",
       "      <td>1.52208</td>\n",
       "      <td>0.986155</td>\n",
       "      <td>3.618184</td>\n",
       "      <td>5.91515</td>\n",
       "      <td>4.882483</td>\n",
       "    </tr>\n",
       "  </tbody>\n",
       "</table>\n",
       "</div>"
      ]
     },
     "execution_count": 212,
     "metadata": {},
     "output_type": "execute_result"
    }
   ],
   "execution_count": 212
  },
  {
   "metadata": {
    "ExecuteTime": {
     "end_time": "2024-12-03T03:55:52.908146Z",
     "start_time": "2024-12-03T03:55:52.899709Z"
    }
   },
   "cell_type": "code",
   "source": [
    "metrics = pd.concat([lr_metrics, svr_metrics, rf_metrics, xgb_metrics, lgbm_metrics])\n",
    "metrics_rounded = metrics.round(3)\n",
    "metrics_rounded_sorted = metrics_rounded.sort_values(by='R2_test', ascending=True)\n",
    "metrics_rounded_sorted.to_csv('output/report_models.csv', index=False)\n",
    "metrics_rounded_sorted"
   ],
   "id": "af7a9e70771ad599",
   "outputs": [
    {
     "data": {
      "text/plain": [
       "                       model  R2_train  MAE_train  MAPE_train  RMSE_train  \\\n",
       "0          Linear Regression     0.422     22.901      34.682      30.511   \n",
       "0  Support Vector Regression     0.852     10.862      14.657      15.414   \n",
       "0              Random Forest     0.988      2.985       4.127       4.463   \n",
       "0                    XGBoost     0.997      1.437       1.938       2.206   \n",
       "0                   LightGBM     0.999      1.117       1.499       1.522   \n",
       "\n",
       "   R2_test  MAE_test  MAPE_test  RMSE_test  \n",
       "0    0.547    19.912     37.043     27.923  \n",
       "0    0.869    11.108     17.472     15.031  \n",
       "0    0.947     6.914     10.246      9.515  \n",
       "0    0.982     4.070      6.244      5.508  \n",
       "0    0.986     3.618      5.915      4.882  "
      ],
      "text/html": [
       "<div>\n",
       "<style scoped>\n",
       "    .dataframe tbody tr th:only-of-type {\n",
       "        vertical-align: middle;\n",
       "    }\n",
       "\n",
       "    .dataframe tbody tr th {\n",
       "        vertical-align: top;\n",
       "    }\n",
       "\n",
       "    .dataframe thead th {\n",
       "        text-align: right;\n",
       "    }\n",
       "</style>\n",
       "<table border=\"1\" class=\"dataframe\">\n",
       "  <thead>\n",
       "    <tr style=\"text-align: right;\">\n",
       "      <th></th>\n",
       "      <th>model</th>\n",
       "      <th>R2_train</th>\n",
       "      <th>MAE_train</th>\n",
       "      <th>MAPE_train</th>\n",
       "      <th>RMSE_train</th>\n",
       "      <th>R2_test</th>\n",
       "      <th>MAE_test</th>\n",
       "      <th>MAPE_test</th>\n",
       "      <th>RMSE_test</th>\n",
       "    </tr>\n",
       "  </thead>\n",
       "  <tbody>\n",
       "    <tr>\n",
       "      <th>0</th>\n",
       "      <td>Linear Regression</td>\n",
       "      <td>0.422</td>\n",
       "      <td>22.901</td>\n",
       "      <td>34.682</td>\n",
       "      <td>30.511</td>\n",
       "      <td>0.547</td>\n",
       "      <td>19.912</td>\n",
       "      <td>37.043</td>\n",
       "      <td>27.923</td>\n",
       "    </tr>\n",
       "    <tr>\n",
       "      <th>0</th>\n",
       "      <td>Support Vector Regression</td>\n",
       "      <td>0.852</td>\n",
       "      <td>10.862</td>\n",
       "      <td>14.657</td>\n",
       "      <td>15.414</td>\n",
       "      <td>0.869</td>\n",
       "      <td>11.108</td>\n",
       "      <td>17.472</td>\n",
       "      <td>15.031</td>\n",
       "    </tr>\n",
       "    <tr>\n",
       "      <th>0</th>\n",
       "      <td>Random Forest</td>\n",
       "      <td>0.988</td>\n",
       "      <td>2.985</td>\n",
       "      <td>4.127</td>\n",
       "      <td>4.463</td>\n",
       "      <td>0.947</td>\n",
       "      <td>6.914</td>\n",
       "      <td>10.246</td>\n",
       "      <td>9.515</td>\n",
       "    </tr>\n",
       "    <tr>\n",
       "      <th>0</th>\n",
       "      <td>XGBoost</td>\n",
       "      <td>0.997</td>\n",
       "      <td>1.437</td>\n",
       "      <td>1.938</td>\n",
       "      <td>2.206</td>\n",
       "      <td>0.982</td>\n",
       "      <td>4.070</td>\n",
       "      <td>6.244</td>\n",
       "      <td>5.508</td>\n",
       "    </tr>\n",
       "    <tr>\n",
       "      <th>0</th>\n",
       "      <td>LightGBM</td>\n",
       "      <td>0.999</td>\n",
       "      <td>1.117</td>\n",
       "      <td>1.499</td>\n",
       "      <td>1.522</td>\n",
       "      <td>0.986</td>\n",
       "      <td>3.618</td>\n",
       "      <td>5.915</td>\n",
       "      <td>4.882</td>\n",
       "    </tr>\n",
       "  </tbody>\n",
       "</table>\n",
       "</div>"
      ]
     },
     "execution_count": 213,
     "metadata": {},
     "output_type": "execute_result"
    }
   ],
   "execution_count": 213
  }
 ],
 "metadata": {
  "kernelspec": {
   "display_name": "pytorch",
   "language": "python",
   "name": "pytorch"
  },
  "language_info": {
   "codemirror_mode": {
    "name": "ipython",
    "version": 2
   },
   "file_extension": ".py",
   "mimetype": "text/x-python",
   "name": "python",
   "nbconvert_exporter": "python",
   "pygments_lexer": "ipython2",
   "version": "2.7.6"
  }
 },
 "nbformat": 4,
 "nbformat_minor": 5
}
