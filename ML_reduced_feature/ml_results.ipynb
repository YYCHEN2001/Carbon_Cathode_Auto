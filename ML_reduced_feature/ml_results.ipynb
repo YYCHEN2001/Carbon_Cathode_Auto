{
 "cells": [
  {
   "cell_type": "code",
   "id": "initial_id",
   "metadata": {
    "collapsed": true,
    "ExecuteTime": {
     "end_time": "2024-12-02T16:19:01.166926Z",
     "start_time": "2024-12-02T16:18:59.965165Z"
    }
   },
   "source": [
    "from sklearn.preprocessing import StandardScaler\n",
    "from function import metrics_to_dataframe, plot_actual_vs_predicted\n",
    "import pandas as pd\n",
    "from function import split_data\n",
    "import optuna\n",
    "from sklearn.model_selection import cross_val_score\n",
    "\n",
    "# 读取数据\n",
    "data = pd.read_csv(\"../data/dataset_reduced.csv\")\n",
    "X_train, X_test, y_train, y_test = split_data(data, 'Cs')\n",
    "\n",
    "# 数据标准化\n",
    "scaler = StandardScaler()\n",
    "X_train_scaled = scaler.fit_transform(X_train)\n",
    "X_test_scaled = scaler.transform(X_test)"
   ],
   "outputs": [],
   "execution_count": 1
  },
  {
   "metadata": {
    "ExecuteTime": {
     "end_time": "2024-12-02T16:19:01.182308Z",
     "start_time": "2024-12-02T16:19:01.169920Z"
    }
   },
   "cell_type": "code",
   "source": [
    "# 线性回归 Linear Regression\n",
    "from sklearn.linear_model import LinearRegression\n",
    "\n",
    "lr = LinearRegression()\n",
    "lr.fit(X_train, y_train)\n",
    "y_train_pred_lr = lr.predict(X_train)\n",
    "y_test_pred_lr = lr.predict(X_test)\n",
    "lr_metrics = metrics_to_dataframe(y_train, y_train_pred_lr, y_test, y_test_pred_lr, 'Linear Regression')\n",
    "lr_metrics"
   ],
   "id": "c88a1da1727e5f57",
   "outputs": [
    {
     "data": {
      "text/plain": [
       "               model  R2_train  MAE_train  MAPE_train  RMSE_train   R2_test  \\\n",
       "0  Linear Regression  0.421558  22.900748   34.682054   30.511129  0.547166   \n",
       "\n",
       "    MAE_test  MAPE_test  RMSE_test  \n",
       "0  19.912334  37.042903  27.922848  "
      ],
      "text/html": [
       "<div>\n",
       "<style scoped>\n",
       "    .dataframe tbody tr th:only-of-type {\n",
       "        vertical-align: middle;\n",
       "    }\n",
       "\n",
       "    .dataframe tbody tr th {\n",
       "        vertical-align: top;\n",
       "    }\n",
       "\n",
       "    .dataframe thead th {\n",
       "        text-align: right;\n",
       "    }\n",
       "</style>\n",
       "<table border=\"1\" class=\"dataframe\">\n",
       "  <thead>\n",
       "    <tr style=\"text-align: right;\">\n",
       "      <th></th>\n",
       "      <th>model</th>\n",
       "      <th>R2_train</th>\n",
       "      <th>MAE_train</th>\n",
       "      <th>MAPE_train</th>\n",
       "      <th>RMSE_train</th>\n",
       "      <th>R2_test</th>\n",
       "      <th>MAE_test</th>\n",
       "      <th>MAPE_test</th>\n",
       "      <th>RMSE_test</th>\n",
       "    </tr>\n",
       "  </thead>\n",
       "  <tbody>\n",
       "    <tr>\n",
       "      <th>0</th>\n",
       "      <td>Linear Regression</td>\n",
       "      <td>0.421558</td>\n",
       "      <td>22.900748</td>\n",
       "      <td>34.682054</td>\n",
       "      <td>30.511129</td>\n",
       "      <td>0.547166</td>\n",
       "      <td>19.912334</td>\n",
       "      <td>37.042903</td>\n",
       "      <td>27.922848</td>\n",
       "    </tr>\n",
       "  </tbody>\n",
       "</table>\n",
       "</div>"
      ]
     },
     "execution_count": 2,
     "metadata": {},
     "output_type": "execute_result"
    }
   ],
   "execution_count": 2
  },
  {
   "metadata": {
    "ExecuteTime": {
     "end_time": "2024-12-02T16:19:01.291450Z",
     "start_time": "2024-12-02T16:19:01.259630Z"
    }
   },
   "cell_type": "code",
   "source": [
    "# 支持向量回归Support Vector Regression\n",
    "from sklearn.svm import SVR\n",
    "\n",
    "svr_params = {\n",
    "    'kernel': 'poly',\n",
    "    'degree': 6,\n",
    "    'gamma': 'scale',\n",
    "    'coef0': 3,\n",
    "    'epsilon': 10,\n",
    "    'verbose': True,\n",
    "    'C': 0.5\n",
    "}\n",
    "\n",
    "svr = SVR(**svr_params)\n",
    "svr.fit(X_train_scaled, y_train)\n",
    "y_train_pred_svr = svr.predict(X_train_scaled)\n",
    "y_test_pred_svr = svr.predict(X_test_scaled)\n",
    "svr_metrics = metrics_to_dataframe(y_train, y_train_pred_svr, y_test, y_test_pred_svr, 'Support Vector Regression')\n",
    "svr_metrics"
   ],
   "id": "3681ce7f76e72a29",
   "outputs": [
    {
     "name": "stdout",
     "output_type": "stream",
     "text": [
      "[LibSVM]"
     ]
    },
    {
     "data": {
      "text/plain": [
       "                       model  R2_train  MAE_train  MAPE_train  RMSE_train  \\\n",
       "0  Support Vector Regression  0.852376  10.862432   14.656757   15.413714   \n",
       "\n",
       "    R2_test   MAE_test  MAPE_test  RMSE_test  \n",
       "0  0.868775  11.107893  17.472105  15.031371  "
      ],
      "text/html": [
       "<div>\n",
       "<style scoped>\n",
       "    .dataframe tbody tr th:only-of-type {\n",
       "        vertical-align: middle;\n",
       "    }\n",
       "\n",
       "    .dataframe tbody tr th {\n",
       "        vertical-align: top;\n",
       "    }\n",
       "\n",
       "    .dataframe thead th {\n",
       "        text-align: right;\n",
       "    }\n",
       "</style>\n",
       "<table border=\"1\" class=\"dataframe\">\n",
       "  <thead>\n",
       "    <tr style=\"text-align: right;\">\n",
       "      <th></th>\n",
       "      <th>model</th>\n",
       "      <th>R2_train</th>\n",
       "      <th>MAE_train</th>\n",
       "      <th>MAPE_train</th>\n",
       "      <th>RMSE_train</th>\n",
       "      <th>R2_test</th>\n",
       "      <th>MAE_test</th>\n",
       "      <th>MAPE_test</th>\n",
       "      <th>RMSE_test</th>\n",
       "    </tr>\n",
       "  </thead>\n",
       "  <tbody>\n",
       "    <tr>\n",
       "      <th>0</th>\n",
       "      <td>Support Vector Regression</td>\n",
       "      <td>0.852376</td>\n",
       "      <td>10.862432</td>\n",
       "      <td>14.656757</td>\n",
       "      <td>15.413714</td>\n",
       "      <td>0.868775</td>\n",
       "      <td>11.107893</td>\n",
       "      <td>17.472105</td>\n",
       "      <td>15.031371</td>\n",
       "    </tr>\n",
       "  </tbody>\n",
       "</table>\n",
       "</div>"
      ]
     },
     "execution_count": 3,
     "metadata": {},
     "output_type": "execute_result"
    }
   ],
   "execution_count": 3
  },
  {
   "metadata": {
    "ExecuteTime": {
     "end_time": "2024-12-02T16:19:01.392580Z",
     "start_time": "2024-12-02T16:19:01.313540Z"
    }
   },
   "cell_type": "code",
   "source": [
    "# 随机森林 Random Forest\n",
    "from sklearn.ensemble import RandomForestRegressor\n",
    "\n",
    "rf_params = {\n",
    "    'n_estimators': 60,\n",
    "    'max_depth': 12,\n",
    "    'min_samples_split': 2,\n",
    "    'min_samples_leaf': 1,\n",
    "    'max_features': 0.46,\n",
    "    'random_state': 21\n",
    "}\n",
    "rf = RandomForestRegressor(**rf_params)\n",
    "rf.fit(X_train, y_train)\n",
    "y_train_pred_rf = rf.predict(X_train)\n",
    "y_test_pred_rf = rf.predict(X_test)\n",
    "rf_metrics = metrics_to_dataframe(y_train, y_train_pred_rf, y_test, y_test_pred_rf, 'Random Forest')\n",
    "rf_metrics"
   ],
   "id": "fabe8c5808fad280",
   "outputs": [
    {
     "data": {
      "text/plain": [
       "           model  R2_train  MAE_train  MAPE_train  RMSE_train   R2_test  \\\n",
       "0  Random Forest  0.987531   2.983281    4.116053    4.479728  0.947483   \n",
       "\n",
       "   MAE_test  MAPE_test  RMSE_test  \n",
       "0  6.802076  10.183421   9.509109  "
      ],
      "text/html": [
       "<div>\n",
       "<style scoped>\n",
       "    .dataframe tbody tr th:only-of-type {\n",
       "        vertical-align: middle;\n",
       "    }\n",
       "\n",
       "    .dataframe tbody tr th {\n",
       "        vertical-align: top;\n",
       "    }\n",
       "\n",
       "    .dataframe thead th {\n",
       "        text-align: right;\n",
       "    }\n",
       "</style>\n",
       "<table border=\"1\" class=\"dataframe\">\n",
       "  <thead>\n",
       "    <tr style=\"text-align: right;\">\n",
       "      <th></th>\n",
       "      <th>model</th>\n",
       "      <th>R2_train</th>\n",
       "      <th>MAE_train</th>\n",
       "      <th>MAPE_train</th>\n",
       "      <th>RMSE_train</th>\n",
       "      <th>R2_test</th>\n",
       "      <th>MAE_test</th>\n",
       "      <th>MAPE_test</th>\n",
       "      <th>RMSE_test</th>\n",
       "    </tr>\n",
       "  </thead>\n",
       "  <tbody>\n",
       "    <tr>\n",
       "      <th>0</th>\n",
       "      <td>Random Forest</td>\n",
       "      <td>0.987531</td>\n",
       "      <td>2.983281</td>\n",
       "      <td>4.116053</td>\n",
       "      <td>4.479728</td>\n",
       "      <td>0.947483</td>\n",
       "      <td>6.802076</td>\n",
       "      <td>10.183421</td>\n",
       "      <td>9.509109</td>\n",
       "    </tr>\n",
       "  </tbody>\n",
       "</table>\n",
       "</div>"
      ]
     },
     "execution_count": 4,
     "metadata": {},
     "output_type": "execute_result"
    }
   ],
   "execution_count": 4
  },
  {
   "metadata": {
    "ExecuteTime": {
     "end_time": "2024-12-02T16:19:01.835645Z",
     "start_time": "2024-12-02T16:19:01.481446Z"
    }
   },
   "cell_type": "code",
   "source": [
    "# XGBoost\n",
    "from xgboost import XGBRegressor\n",
    "xgb_params = {\n",
    "    'n_estimators': 300,\n",
    "    'learning_rate': 0.09,\n",
    "    'subsample': 0.64,\n",
    "    'gamma': 0.03,\n",
    "    'max_depth': 18,\n",
    "    'min_child_weight': 9,\n",
    "    'reg_alpha': 0.5,\n",
    "    'reg_lambda': 4.87,\n",
    "    'colsample_bytree': 0.8,\n",
    "    'colsample_bylevel': 0.6,\n",
    "    'colsample_bynode': 0.6,\n",
    "    'random_state': 21\n",
    "}\n",
    "xgb = XGBRegressor(**xgb_params)\n",
    "xgb.fit(X_train, y_train)\n",
    "y_train_pred_xgb = xgb.predict(X_train)\n",
    "y_test_pred_xgb = xgb.predict(X_test)\n",
    "xgb_metrics = metrics_to_dataframe(y_train, y_train_pred_xgb, y_test, y_test_pred_xgb, 'XGBoost')\n",
    "xgb_metrics"
   ],
   "id": "8b3bf01aac7f87ea",
   "outputs": [
    {
     "data": {
      "text/plain": [
       "     model  R2_train  MAE_train  MAPE_train  RMSE_train   R2_test  MAE_test  \\\n",
       "0  XGBoost  0.990375   2.511343    3.329807    3.935711  0.973597  4.694415   \n",
       "\n",
       "   MAPE_test  RMSE_test  \n",
       "0   6.964201   6.742497  "
      ],
      "text/html": [
       "<div>\n",
       "<style scoped>\n",
       "    .dataframe tbody tr th:only-of-type {\n",
       "        vertical-align: middle;\n",
       "    }\n",
       "\n",
       "    .dataframe tbody tr th {\n",
       "        vertical-align: top;\n",
       "    }\n",
       "\n",
       "    .dataframe thead th {\n",
       "        text-align: right;\n",
       "    }\n",
       "</style>\n",
       "<table border=\"1\" class=\"dataframe\">\n",
       "  <thead>\n",
       "    <tr style=\"text-align: right;\">\n",
       "      <th></th>\n",
       "      <th>model</th>\n",
       "      <th>R2_train</th>\n",
       "      <th>MAE_train</th>\n",
       "      <th>MAPE_train</th>\n",
       "      <th>RMSE_train</th>\n",
       "      <th>R2_test</th>\n",
       "      <th>MAE_test</th>\n",
       "      <th>MAPE_test</th>\n",
       "      <th>RMSE_test</th>\n",
       "    </tr>\n",
       "  </thead>\n",
       "  <tbody>\n",
       "    <tr>\n",
       "      <th>0</th>\n",
       "      <td>XGBoost</td>\n",
       "      <td>0.990375</td>\n",
       "      <td>2.511343</td>\n",
       "      <td>3.329807</td>\n",
       "      <td>3.935711</td>\n",
       "      <td>0.973597</td>\n",
       "      <td>4.694415</td>\n",
       "      <td>6.964201</td>\n",
       "      <td>6.742497</td>\n",
       "    </tr>\n",
       "  </tbody>\n",
       "</table>\n",
       "</div>"
      ]
     },
     "execution_count": 5,
     "metadata": {},
     "output_type": "execute_result"
    }
   ],
   "execution_count": 5
  },
  {
   "metadata": {
    "ExecuteTime": {
     "end_time": "2024-12-02T16:19:02.062021Z",
     "start_time": "2024-12-02T16:19:01.887137Z"
    }
   },
   "cell_type": "code",
   "source": [
    "# LightGBM\n",
    "from lightgbm import LGBMRegressor\n",
    "\n",
    "lgbm_params = {\n",
    "    'n_estimators': 300,\n",
    "    'learning_rate': 0.23,\n",
    "    'max_depth': 25,\n",
    "    'min_child_samples': 10,\n",
    "    'colsample_bytree': 0.25,\n",
    "    'num_leaves': 70,\n",
    "    'reg_alpha': 0.45,\n",
    "    'reg_lambda': 0.51,\n",
    "    'subsample': 0.75,\n",
    "    'verbose': -1,\n",
    "    'random_state': 21\n",
    "}\n",
    "\n",
    "lgbm = LGBMRegressor(**lgbm_params)\n",
    "lgbm.fit(X_train, y_train)\n",
    "y_train_pred_lgbm = lgbm.predict(X_train)\n",
    "y_test_pred_lgbm = lgbm.predict(X_test)\n",
    "lgbm_metrics = metrics_to_dataframe(y_train, y_train_pred_lgbm, y_test, y_test_pred_lgbm, 'LightGBM')\n",
    "lgbm_metrics"
   ],
   "id": "1f1e9b95184b126d",
   "outputs": [
    {
     "data": {
      "text/plain": [
       "      model  R2_train  MAE_train  MAPE_train  RMSE_train   R2_test  MAE_test  \\\n",
       "0  LightGBM  0.993375   2.202047    3.125069    3.265174  0.969931  5.194588   \n",
       "\n",
       "   MAPE_test  RMSE_test  \n",
       "0   7.639931   7.195321  "
      ],
      "text/html": [
       "<div>\n",
       "<style scoped>\n",
       "    .dataframe tbody tr th:only-of-type {\n",
       "        vertical-align: middle;\n",
       "    }\n",
       "\n",
       "    .dataframe tbody tr th {\n",
       "        vertical-align: top;\n",
       "    }\n",
       "\n",
       "    .dataframe thead th {\n",
       "        text-align: right;\n",
       "    }\n",
       "</style>\n",
       "<table border=\"1\" class=\"dataframe\">\n",
       "  <thead>\n",
       "    <tr style=\"text-align: right;\">\n",
       "      <th></th>\n",
       "      <th>model</th>\n",
       "      <th>R2_train</th>\n",
       "      <th>MAE_train</th>\n",
       "      <th>MAPE_train</th>\n",
       "      <th>RMSE_train</th>\n",
       "      <th>R2_test</th>\n",
       "      <th>MAE_test</th>\n",
       "      <th>MAPE_test</th>\n",
       "      <th>RMSE_test</th>\n",
       "    </tr>\n",
       "  </thead>\n",
       "  <tbody>\n",
       "    <tr>\n",
       "      <th>0</th>\n",
       "      <td>LightGBM</td>\n",
       "      <td>0.993375</td>\n",
       "      <td>2.202047</td>\n",
       "      <td>3.125069</td>\n",
       "      <td>3.265174</td>\n",
       "      <td>0.969931</td>\n",
       "      <td>5.194588</td>\n",
       "      <td>7.639931</td>\n",
       "      <td>7.195321</td>\n",
       "    </tr>\n",
       "  </tbody>\n",
       "</table>\n",
       "</div>"
      ]
     },
     "execution_count": 6,
     "metadata": {},
     "output_type": "execute_result"
    }
   ],
   "execution_count": 6
  },
  {
   "metadata": {
    "ExecuteTime": {
     "end_time": "2024-12-02T16:19:02.139095Z",
     "start_time": "2024-12-02T16:19:02.129370Z"
    }
   },
   "cell_type": "code",
   "source": [
    "metrics = pd.concat([lr_metrics, svr_metrics, rf_metrics, xgb_metrics, lgbm_metrics])\n",
    "metrics_rounded = metrics.round(3)\n",
    "metrics_rounded.to_csv('report_models.csv', index=False)\n",
    "metrics_rounded"
   ],
   "id": "af7a9e70771ad599",
   "outputs": [
    {
     "data": {
      "text/plain": [
       "                       model  R2_train  MAE_train  MAPE_train  RMSE_train  \\\n",
       "0          Linear Regression     0.422     22.901      34.682      30.511   \n",
       "0  Support Vector Regression     0.852     10.862      14.657      15.414   \n",
       "0              Random Forest     0.988      2.983       4.116       4.480   \n",
       "0                    XGBoost     0.990      2.511       3.330       3.936   \n",
       "0                   LightGBM     0.993      2.202       3.125       3.265   \n",
       "\n",
       "   R2_test  MAE_test  MAPE_test  RMSE_test  \n",
       "0    0.547    19.912     37.043     27.923  \n",
       "0    0.869    11.108     17.472     15.031  \n",
       "0    0.947     6.802     10.183      9.509  \n",
       "0    0.974     4.694      6.964      6.742  \n",
       "0    0.970     5.195      7.640      7.195  "
      ],
      "text/html": [
       "<div>\n",
       "<style scoped>\n",
       "    .dataframe tbody tr th:only-of-type {\n",
       "        vertical-align: middle;\n",
       "    }\n",
       "\n",
       "    .dataframe tbody tr th {\n",
       "        vertical-align: top;\n",
       "    }\n",
       "\n",
       "    .dataframe thead th {\n",
       "        text-align: right;\n",
       "    }\n",
       "</style>\n",
       "<table border=\"1\" class=\"dataframe\">\n",
       "  <thead>\n",
       "    <tr style=\"text-align: right;\">\n",
       "      <th></th>\n",
       "      <th>model</th>\n",
       "      <th>R2_train</th>\n",
       "      <th>MAE_train</th>\n",
       "      <th>MAPE_train</th>\n",
       "      <th>RMSE_train</th>\n",
       "      <th>R2_test</th>\n",
       "      <th>MAE_test</th>\n",
       "      <th>MAPE_test</th>\n",
       "      <th>RMSE_test</th>\n",
       "    </tr>\n",
       "  </thead>\n",
       "  <tbody>\n",
       "    <tr>\n",
       "      <th>0</th>\n",
       "      <td>Linear Regression</td>\n",
       "      <td>0.422</td>\n",
       "      <td>22.901</td>\n",
       "      <td>34.682</td>\n",
       "      <td>30.511</td>\n",
       "      <td>0.547</td>\n",
       "      <td>19.912</td>\n",
       "      <td>37.043</td>\n",
       "      <td>27.923</td>\n",
       "    </tr>\n",
       "    <tr>\n",
       "      <th>0</th>\n",
       "      <td>Support Vector Regression</td>\n",
       "      <td>0.852</td>\n",
       "      <td>10.862</td>\n",
       "      <td>14.657</td>\n",
       "      <td>15.414</td>\n",
       "      <td>0.869</td>\n",
       "      <td>11.108</td>\n",
       "      <td>17.472</td>\n",
       "      <td>15.031</td>\n",
       "    </tr>\n",
       "    <tr>\n",
       "      <th>0</th>\n",
       "      <td>Random Forest</td>\n",
       "      <td>0.988</td>\n",
       "      <td>2.983</td>\n",
       "      <td>4.116</td>\n",
       "      <td>4.480</td>\n",
       "      <td>0.947</td>\n",
       "      <td>6.802</td>\n",
       "      <td>10.183</td>\n",
       "      <td>9.509</td>\n",
       "    </tr>\n",
       "    <tr>\n",
       "      <th>0</th>\n",
       "      <td>XGBoost</td>\n",
       "      <td>0.990</td>\n",
       "      <td>2.511</td>\n",
       "      <td>3.330</td>\n",
       "      <td>3.936</td>\n",
       "      <td>0.974</td>\n",
       "      <td>4.694</td>\n",
       "      <td>6.964</td>\n",
       "      <td>6.742</td>\n",
       "    </tr>\n",
       "    <tr>\n",
       "      <th>0</th>\n",
       "      <td>LightGBM</td>\n",
       "      <td>0.993</td>\n",
       "      <td>2.202</td>\n",
       "      <td>3.125</td>\n",
       "      <td>3.265</td>\n",
       "      <td>0.970</td>\n",
       "      <td>5.195</td>\n",
       "      <td>7.640</td>\n",
       "      <td>7.195</td>\n",
       "    </tr>\n",
       "  </tbody>\n",
       "</table>\n",
       "</div>"
      ]
     },
     "execution_count": 7,
     "metadata": {},
     "output_type": "execute_result"
    }
   ],
   "execution_count": 7
  }
 ],
 "metadata": {
  "kernelspec": {
   "display_name": "pytorch",
   "language": "python",
   "name": "pytorch"
  },
  "language_info": {
   "codemirror_mode": {
    "name": "ipython",
    "version": 2
   },
   "file_extension": ".py",
   "mimetype": "text/x-python",
   "name": "python",
   "nbconvert_exporter": "python",
   "pygments_lexer": "ipython2",
   "version": "2.7.6"
  }
 },
 "nbformat": 4,
 "nbformat_minor": 5
}
