{
 "cells": [
  {
   "metadata": {
    "ExecuteTime": {
     "end_time": "2024-11-19T08:37:02.543453Z",
     "start_time": "2024-11-19T08:37:00.531418Z"
    }
   },
   "cell_type": "code",
   "source": [
    "import torch\n",
    "import torch.nn as nn\n",
    "import torch.optim as optim\n",
    "from torch.utils.data import DataLoader, TensorDataset\n",
    "from sklearn.model_selection import train_test_split\n",
    "from sklearn.preprocessing import StandardScaler\n",
    "import pandas as pd\n",
    "import numpy as np\n",
    "import random\n",
    "\n",
    "# 检查是否有可用的 GPU\n",
    "device = torch.device(\"cuda\" if torch.cuda.is_available() else \"cpu\")\n",
    "print(f\"Using device: {device}\")"
   ],
   "id": "1a2cf3940e973075",
   "outputs": [
    {
     "name": "stdout",
     "output_type": "stream",
     "text": [
      "Using device: cuda\n"
     ]
    }
   ],
   "execution_count": 1
  },
  {
   "metadata": {
    "ExecuteTime": {
     "end_time": "2024-11-19T08:37:02.550271Z",
     "start_time": "2024-11-19T08:37:02.545455Z"
    }
   },
   "cell_type": "code",
   "source": [
    "# 自定义 MAPE 损失函数\n",
    "class MAPE_Loss(nn.Module):\n",
    "    def __init__(self):\n",
    "        super(MAPE_Loss, self).__init__()\n",
    "\n",
    "    def forward(self, y_pred, y_true):\n",
    "        epsilon = 1e-8  # 避免除零\n",
    "        return torch.mean(torch.abs((y_true - y_pred) / (y_true + epsilon))) * 100\n",
    "\n",
    "# 自定义 RMSE 损失函数\n",
    "class RMSE_Loss(nn.Module):\n",
    "    def __init__(self):\n",
    "        super(RMSE_Loss, self).__init__()\n",
    "\n",
    "    def forward(self, y_pred, y_true):\n",
    "        return torch.sqrt(torch.mean((y_true - y_pred) ** 2))"
   ],
   "id": "9071234e16034a73",
   "outputs": [],
   "execution_count": 2
  },
  {
   "metadata": {
    "ExecuteTime": {
     "end_time": "2024-11-19T08:37:02.745581Z",
     "start_time": "2024-11-19T08:37:02.657155Z"
    }
   },
   "cell_type": "code",
   "source": [
    "# 读取数据\n",
    "data = pd.read_csv(\"../data/dataset.csv\")\n",
    "\n",
    "# 数据分割\n",
    "data['target_class'] = pd.qcut(data['Cs'], q=10, labels=False)\n",
    "X = data.drop(['Cs', 'target_class'], axis=1).values\n",
    "y = data['Cs'].values\n",
    "stratify_column = data['target_class']\n",
    "\n",
    "X_train, X_test, y_train, y_test = train_test_split(X, y, test_size=0.2, random_state=21, stratify=stratify_column)\n",
    "\n",
    "# 数据标准化\n",
    "scaler = StandardScaler()\n",
    "scaler.fit(X_train)\n",
    "X_train_scaled = scaler.transform(X_train)\n",
    "X_test_scaled = scaler.transform(X_test)\n",
    "\n",
    "# 将数据转换为 PyTorch 张量并移动到 GPU\n",
    "X_train_tensor = torch.tensor(X_train_scaled, dtype=torch.float32).to(device)\n",
    "y_train_tensor = torch.tensor(y_train, dtype=torch.float32).view(-1, 1).to(device)\n",
    "\n",
    "X_test_tensor = torch.tensor(X_test_scaled, dtype=torch.float32).to(device)\n",
    "y_test_tensor = torch.tensor(y_test, dtype=torch.float32).view(-1, 1).to(device)\n",
    "\n",
    "# 创建 DataLoader\n",
    "train_dataset = TensorDataset(X_train_tensor, y_train_tensor)\n",
    "test_dataset = TensorDataset(X_test_tensor, y_test_tensor)\n",
    "\n",
    "train_loader = DataLoader(train_dataset, batch_size=32, shuffle=True)\n",
    "test_loader = DataLoader(test_dataset, batch_size=32, shuffle=False)"
   ],
   "id": "a19a27bf0a3988b0",
   "outputs": [],
   "execution_count": 3
  },
  {
   "metadata": {
    "ExecuteTime": {
     "end_time": "2024-11-19T08:37:03.603564Z",
     "start_time": "2024-11-19T08:37:02.749583Z"
    }
   },
   "cell_type": "code",
   "source": [
    "# 定义 ANN 模型（确保在使用前定义）\n",
    "class ANN(nn.Module):\n",
    "    def __init__(self, input_dim):\n",
    "        super(ANN, self).__init__()\n",
    "        self.layer1 = nn.Linear(input_dim, 12)\n",
    "        self.layer2 = nn.Linear(12, 90)\n",
    "        self.layer3 = nn.Linear(90, 90)\n",
    "        self.layer4 = nn.Linear(90, 60)\n",
    "        self.layer5 = nn.Linear(60, 70)\n",
    "        self.layer6 = nn.Linear(70, 30)\n",
    "        self.output = nn.Linear(30, 1)\n",
    "\n",
    "    def forward(self, x):\n",
    "        x = torch.relu(self.layer1(x))\n",
    "        x = torch.relu(self.layer2(x))\n",
    "        x = torch.relu(self.layer3(x))\n",
    "        x = torch.relu(self.layer4(x))\n",
    "        x = torch.relu(self.layer5(x))\n",
    "        x = torch.relu(self.layer6(x))\n",
    "        x = self.output(x)\n",
    "        return x\n",
    "\n",
    "# 初始化模型并将其移到 GPU（如果可用）\n",
    "input_dim = X_train.shape[1]\n",
    "model = ANN(input_dim).to(device)\n",
    "\n",
    "# 定义损失函数和优化器\n",
    "loss_function = MAPE_Loss().to(device)  # 自定义损失函数也要移到 GPU\n",
    "optimizer = optim.Adam(model.parameters(), lr=0.001)"
   ],
   "id": "d94ccc92602ae51a",
   "outputs": [],
   "execution_count": 4
  },
  {
   "metadata": {
    "ExecuteTime": {
     "end_time": "2024-11-19T08:37:04.170895Z",
     "start_time": "2024-11-19T08:37:03.710501Z"
    }
   },
   "cell_type": "code",
   "source": [
    "from function import metrics_to_dataframe\n",
    "\n",
    "# 重新定义模型结构\n",
    "model = ANN(input_dim).to(device)  # 使用相同的模型结构\n",
    "\n",
    "# 加载模型参数，确保使用 weights_only=True 来提高安全性\n",
    "model.load_state_dict(torch.load(\"ann_model.pth\", weights_only=True))  # 加载模型参数\n",
    "\n",
    "# 评估模型 (确保在 GPU 上)\n",
    "model.eval()\n",
    "with torch.no_grad():\n",
    "    y_train_pred = model(X_train_tensor).cpu().numpy()  # 转换为 CPU 数据，便于后续处理\n",
    "    y_test_pred = model(X_test_tensor).cpu().numpy()\n",
    "\n",
    "# 绘制实际 vs 预测图\n",
    "# plot_actual_vs_predicted(y_train, y_train_pred, y_test, y_test_pred, 'Artificial Neural Network', 'ann.png')\n",
    "\n",
    "# 计算并显示评估指标\n",
    "ann_metrics = metrics_to_dataframe(y_train, y_train_pred, y_test, y_test_pred, 'ANN')\n",
    "ann_metrics"
   ],
   "id": "caf752dba3440b51",
   "outputs": [
    {
     "data": {
      "text/plain": [
       "  model  R2_train  MAE_train  MAPE_train  RMSE_train   R2_test  MAE_test  \\\n",
       "0   ANN  0.943932   5.739903    6.449726    9.452667  0.963017  5.347572   \n",
       "\n",
       "   MAPE_test  RMSE_test  \n",
       "0   6.180497   7.632014  "
      ],
      "text/html": [
       "<div>\n",
       "<style scoped>\n",
       "    .dataframe tbody tr th:only-of-type {\n",
       "        vertical-align: middle;\n",
       "    }\n",
       "\n",
       "    .dataframe tbody tr th {\n",
       "        vertical-align: top;\n",
       "    }\n",
       "\n",
       "    .dataframe thead th {\n",
       "        text-align: right;\n",
       "    }\n",
       "</style>\n",
       "<table border=\"1\" class=\"dataframe\">\n",
       "  <thead>\n",
       "    <tr style=\"text-align: right;\">\n",
       "      <th></th>\n",
       "      <th>model</th>\n",
       "      <th>R2_train</th>\n",
       "      <th>MAE_train</th>\n",
       "      <th>MAPE_train</th>\n",
       "      <th>RMSE_train</th>\n",
       "      <th>R2_test</th>\n",
       "      <th>MAE_test</th>\n",
       "      <th>MAPE_test</th>\n",
       "      <th>RMSE_test</th>\n",
       "    </tr>\n",
       "  </thead>\n",
       "  <tbody>\n",
       "    <tr>\n",
       "      <th>0</th>\n",
       "      <td>ANN</td>\n",
       "      <td>0.943932</td>\n",
       "      <td>5.739903</td>\n",
       "      <td>6.449726</td>\n",
       "      <td>9.452667</td>\n",
       "      <td>0.963017</td>\n",
       "      <td>5.347572</td>\n",
       "      <td>6.180497</td>\n",
       "      <td>7.632014</td>\n",
       "    </tr>\n",
       "  </tbody>\n",
       "</table>\n",
       "</div>"
      ]
     },
     "execution_count": 5,
     "metadata": {},
     "output_type": "execute_result"
    }
   ],
   "execution_count": 5
  },
  {
   "metadata": {
    "ExecuteTime": {
     "end_time": "2024-11-19T08:39:18.318955Z",
     "start_time": "2024-11-19T08:39:18.315368Z"
    }
   },
   "cell_type": "code",
   "source": [
    "# 打印模型的详细信息\n",
    "print(\"Model Architecture:\")\n",
    "print(model)  # 打印模型的结构\n",
    "\n",
    "# 打印模型中每一层的参数\n",
    "print(\"\\nModel Parameters:\")\n",
    "for name, param in model.named_parameters():\n",
    "    print(f\"{name}: {param.size()}\")  # 输出参数的名称及其形状"
   ],
   "id": "8ac803f119e2f8bf",
   "outputs": [
    {
     "name": "stdout",
     "output_type": "stream",
     "text": [
      "Model Architecture:\n",
      "ANN(\n",
      "  (layer1): Linear(in_features=12, out_features=12, bias=True)\n",
      "  (layer2): Linear(in_features=12, out_features=90, bias=True)\n",
      "  (layer3): Linear(in_features=90, out_features=90, bias=True)\n",
      "  (layer4): Linear(in_features=90, out_features=60, bias=True)\n",
      "  (layer5): Linear(in_features=60, out_features=70, bias=True)\n",
      "  (layer6): Linear(in_features=70, out_features=30, bias=True)\n",
      "  (output): Linear(in_features=30, out_features=1, bias=True)\n",
      ")\n",
      "\n",
      "Model Parameters:\n",
      "layer1.weight: torch.Size([12, 12])\n",
      "layer1.bias: torch.Size([12])\n",
      "layer2.weight: torch.Size([90, 12])\n",
      "layer2.bias: torch.Size([90])\n",
      "layer3.weight: torch.Size([90, 90])\n",
      "layer3.bias: torch.Size([90])\n",
      "layer4.weight: torch.Size([60, 90])\n",
      "layer4.bias: torch.Size([60])\n",
      "layer5.weight: torch.Size([70, 60])\n",
      "layer5.bias: torch.Size([70])\n",
      "layer6.weight: torch.Size([30, 70])\n",
      "layer6.bias: torch.Size([30])\n",
      "output.weight: torch.Size([1, 30])\n",
      "output.bias: torch.Size([1])\n"
     ]
    }
   ],
   "execution_count": 7
  },
  {
   "metadata": {},
   "cell_type": "code",
   "outputs": [],
   "execution_count": null,
   "source": "",
   "id": "e95e7d4e53816b1e"
  }
 ],
 "metadata": {
  "kernelspec": {
   "display_name": "pytorch",
   "language": "python",
   "name": "pytorch"
  },
  "language_info": {
   "codemirror_mode": {
    "name": "ipython",
    "version": 2
   },
   "file_extension": ".py",
   "mimetype": "text/x-python",
   "name": "python",
   "nbconvert_exporter": "python",
   "pygments_lexer": "ipython2",
   "version": "2.7.6"
  }
 },
 "nbformat": 4,
 "nbformat_minor": 5
}
