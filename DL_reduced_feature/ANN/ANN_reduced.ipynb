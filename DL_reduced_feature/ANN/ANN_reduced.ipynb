{
 "cells": [
  {
   "metadata": {
    "ExecuteTime": {
     "end_time": "2024-12-03T09:27:37.186310Z",
     "start_time": "2024-12-03T09:27:34.959533Z"
    }
   },
   "cell_type": "code",
   "source": [
    "import pandas as pd\n",
    "import numpy as np\n",
    "import torch\n",
    "import torch.nn as nn\n",
    "import torch.optim as optim\n",
    "from torch.utils.data import DataLoader, TensorDataset\n",
    "from function import split_data\n",
    "from sklearn.preprocessing import StandardScaler\n",
    "\n",
    "# 检查是否有可用的 GPU\n",
    "device = torch.device(\"cuda\" if torch.cuda.is_available() else \"cpu\")\n",
    "print(f\"Using device: {device}\")"
   ],
   "id": "bc27cd838cd0bf18",
   "outputs": [
    {
     "name": "stdout",
     "output_type": "stream",
     "text": [
      "Using device: cuda\n"
     ]
    }
   ],
   "execution_count": 1
  },
  {
   "metadata": {
    "ExecuteTime": {
     "end_time": "2024-12-03T09:27:37.246571Z",
     "start_time": "2024-12-03T09:27:37.191312Z"
    }
   },
   "cell_type": "code",
   "source": [
    "# 读取数据\n",
    "data = pd.read_csv(\"../../data/dataset_reduced.csv\")\n",
    "X_train, X_test, y_train, y_test = split_data(data, 'Cs')\n",
    "\n",
    "# 数据标准化\n",
    "scaler = StandardScaler()\n",
    "scaler.fit(X_train)\n",
    "X_train_scaled = scaler.transform(X_train)\n",
    "X_test_scaled = scaler.transform(X_test)\n",
    "\n",
    "# 将y转换为 NumPy 数组\n",
    "y_train = np.array(y_train)\n",
    "y_test = np.array(y_test)\n",
    "\n",
    "# 将数据转换为 PyTorch 张量并移动到 GPU\n",
    "X_train_tensor = torch.tensor(X_train_scaled, dtype=torch.float32).to(device)\n",
    "y_train_tensor = torch.tensor(y_train, dtype=torch.float32).view(-1, 1).to(device)\n",
    "train_dataset = TensorDataset(X_train_tensor, y_train_tensor)\n",
    "\n",
    "X_test_tensor = torch.tensor(X_test_scaled, dtype=torch.float32).to(device)\n",
    "y_test_tensor = torch.tensor(y_test, dtype=torch.float32).view(-1, 1).to(device)\n",
    "test_dataset = TensorDataset(X_test_tensor, y_test_tensor)\n",
    "\n",
    "print(X_train_tensor.shape)"
   ],
   "id": "c80a50b5e6efdab6",
   "outputs": [
    {
     "name": "stdout",
     "output_type": "stream",
     "text": [
      "torch.Size([499, 9])\n"
     ]
    }
   ],
   "execution_count": 2
  },
  {
   "metadata": {
    "ExecuteTime": {
     "end_time": "2024-12-03T09:28:11.283384Z",
     "start_time": "2024-12-03T09:28:11.280284Z"
    }
   },
   "cell_type": "code",
   "source": [
    "# 创建 DataLoader\n",
    "batch_size = 20\n",
    "train_loader = DataLoader(train_dataset, batch_size=batch_size, shuffle=True)\n",
    "test_loader = DataLoader(test_dataset, batch_size=batch_size, shuffle=False)"
   ],
   "id": "fe4554e4bc53015",
   "outputs": [],
   "execution_count": 8
  },
  {
   "metadata": {
    "ExecuteTime": {
     "end_time": "2024-12-03T09:28:12.542175Z",
     "start_time": "2024-12-03T09:28:12.537284Z"
    }
   },
   "cell_type": "code",
   "source": [
    "from torch_function import MAPE_Loss, RMSE_Loss\n",
    "# 定义 ANN 模型\n",
    "class ANN(nn.Module):\n",
    "    def __init__(self, input_size):\n",
    "        super(ANN, self).__init__()\n",
    "        self.layer1 = nn.Linear(input_size, 120)\n",
    "        self.layer2 = nn.Linear(120, 40)\n",
    "        self.layer3 = nn.Linear(40, 50)\n",
    "        self.layer4 = nn.Linear(50, 120)\n",
    "        self.output = nn.Linear(120, 1)\n",
    "\n",
    "    def forward(self, x):\n",
    "        x = torch.relu(self.layer1(x))\n",
    "        x = torch.relu(self.layer2(x))\n",
    "        x = torch.relu(self.layer3(x))\n",
    "        x = torch.relu(self.layer4(x))\n",
    "        x = self.output(x)\n",
    "        return x\n",
    "\n",
    "# 初始化模型并将其移到 GPU（如果可用）\n",
    "input_size = X_train.shape[1]\n",
    "model = ANN(input_size).to(device)\n",
    "\n",
    "# 定义损失函数和优化器\n",
    "loss_function = RMSE_Loss().to(device)  # 自定义损失函数也要移到 GPU\n",
    "optimizer = optim.Adam(model.parameters(), lr=0.002)"
   ],
   "id": "eee97effb366ffda",
   "outputs": [],
   "execution_count": 9
  },
  {
   "metadata": {
    "ExecuteTime": {
     "end_time": "2024-12-03T09:28:25.273251Z",
     "start_time": "2024-12-03T09:28:14.159923Z"
    }
   },
   "cell_type": "code",
   "source": [
    "# 训练模型+包含早停\n",
    "num_epochs = 3000\n",
    "patience = 100  # 允许的最大连续未改进 epoch 数\n",
    "best_loss = float('inf')  # 初始时验证损失设置为正无穷\n",
    "cumulative_loss = 0.0\n",
    "epochs_without_improvement = 0  # 连续未改进的 epoch 数\n",
    "\n",
    "for epoch in range(num_epochs):\n",
    "    model.train()\n",
    "    running_loss = 0.0\n",
    "    for X_batch, y_batch in train_loader:\n",
    "        # 移动 batch 数据到 GPU\n",
    "        X_batch = X_batch.to(device)\n",
    "        y_batch = y_batch.to(device)\n",
    "\n",
    "        optimizer.zero_grad()\n",
    "        outputs = model(X_batch)\n",
    "        loss = loss_function(outputs, y_batch)\n",
    "        loss.backward()\n",
    "        optimizer.step()\n",
    "        running_loss += loss.item()\n",
    "\n",
    "    # 打印每10个 epoch 的损失\n",
    "    if (epoch + 1) % 10 == 0:\n",
    "        print(f\"Epoch [{epoch + 1}/{num_epochs}], Loss: {running_loss / len(train_loader):.4f}\")\n",
    "\n",
    "    # 计算验证损失\n",
    "    model.eval()\n",
    "    with torch.no_grad():\n",
    "        # 在 GPU 上进行预测\n",
    "        y_val_pred = model(X_test_tensor).to(device)\n",
    "        # 验证损失计算时，确保 y_test_tensor 也在同一个设备上\n",
    "        y_test_tensor = y_test_tensor.to(device)\n",
    "        val_loss = loss_function(y_val_pred, y_test_tensor).item()  # 计算验证损失\n",
    "\n",
    "    # 判断验证损失是否改善\n",
    "    if val_loss < best_loss:\n",
    "        best_loss = val_loss\n",
    "        epochs_without_improvement = 0  # 重置计数器\n",
    "        # 保存最佳模型\n",
    "        torch.save(model.state_dict(), \"ann_best_model.pth\")\n",
    "    else:\n",
    "        epochs_without_improvement += 1\n",
    "\n",
    "    # 如果验证损失在一定次数的 epoch 内没有改进，则停止训练\n",
    "    if epochs_without_improvement >= patience:\n",
    "        print(f\"Early stopping at epoch {epoch + 1}\")\n",
    "        break"
   ],
   "id": "4d64b3e9b98a3ea7",
   "outputs": [
    {
     "name": "stdout",
     "output_type": "stream",
     "text": [
      "Epoch [10/3000], Loss: 26.0378\n",
      "Epoch [20/3000], Loss: 19.9485\n",
      "Epoch [30/3000], Loss: 16.7138\n",
      "Epoch [40/3000], Loss: 14.8944\n",
      "Epoch [50/3000], Loss: 13.3540\n",
      "Epoch [60/3000], Loss: 13.8772\n",
      "Epoch [70/3000], Loss: 12.3471\n",
      "Epoch [80/3000], Loss: 11.2040\n",
      "Epoch [90/3000], Loss: 10.5021\n",
      "Epoch [100/3000], Loss: 9.5975\n",
      "Epoch [110/3000], Loss: 9.7236\n",
      "Epoch [120/3000], Loss: 9.4102\n",
      "Epoch [130/3000], Loss: 8.9872\n",
      "Epoch [140/3000], Loss: 8.8846\n",
      "Epoch [150/3000], Loss: 8.9298\n",
      "Epoch [160/3000], Loss: 7.6720\n",
      "Epoch [170/3000], Loss: 8.4584\n",
      "Epoch [180/3000], Loss: 7.7604\n",
      "Epoch [190/3000], Loss: 7.5271\n",
      "Epoch [200/3000], Loss: 7.1974\n",
      "Epoch [210/3000], Loss: 8.3038\n",
      "Epoch [220/3000], Loss: 7.7278\n",
      "Epoch [230/3000], Loss: 7.9586\n",
      "Epoch [240/3000], Loss: 7.6923\n",
      "Epoch [250/3000], Loss: 8.0453\n",
      "Epoch [260/3000], Loss: 6.9743\n",
      "Epoch [270/3000], Loss: 7.6170\n",
      "Epoch [280/3000], Loss: 7.7426\n",
      "Epoch [290/3000], Loss: 6.7166\n",
      "Epoch [300/3000], Loss: 6.5566\n",
      "Epoch [310/3000], Loss: 7.4167\n",
      "Epoch [320/3000], Loss: 7.2977\n",
      "Epoch [330/3000], Loss: 6.6138\n",
      "Epoch [340/3000], Loss: 7.3099\n",
      "Early stopping at epoch 349\n"
     ]
    }
   ],
   "execution_count": 10
  },
  {
   "metadata": {
    "ExecuteTime": {
     "end_time": "2024-12-03T09:28:27.924060Z",
     "start_time": "2024-12-03T09:28:27.912619Z"
    }
   },
   "cell_type": "code",
   "source": [
    "from function import metrics_to_dataframe\n",
    "# 加载模型参数，确保使用 weights_only=True 来提高安全性\n",
    "model.load_state_dict(torch.load(\"ann_best_model.pth\", weights_only=True))  # 加载模型参数\n",
    "\n",
    "# 评估模型 (确保在 GPU 上)\n",
    "model.eval()\n",
    "model.to(device)\n",
    "\n",
    "with torch.no_grad():\n",
    "    y_train_pred = model(X_train_tensor).cpu().numpy()  # 转换为 CPU 数据，便于后续处理\n",
    "    y_test_pred = model(X_test_tensor).cpu().numpy()\n",
    "\n",
    "# 计算并显示评估指标\n",
    "ann_metrics = metrics_to_dataframe(y_train, y_train_pred, y_test, y_test_pred, 'ANN')\n",
    "ann_metrics"
   ],
   "id": "877ba666a9f8f737",
   "outputs": [
    {
     "data": {
      "text/plain": [
       "  model  R2_train  MAE_train  MAPE_train  RMSE_train   R2_test  MAE_test  \\\n",
       "0   ANN  0.967387   4.214927    4.424806    7.244716  0.962608  5.324582   \n",
       "\n",
       "   MAPE_test  RMSE_test  \n",
       "0   7.202797    8.02384  "
      ],
      "text/html": [
       "<div>\n",
       "<style scoped>\n",
       "    .dataframe tbody tr th:only-of-type {\n",
       "        vertical-align: middle;\n",
       "    }\n",
       "\n",
       "    .dataframe tbody tr th {\n",
       "        vertical-align: top;\n",
       "    }\n",
       "\n",
       "    .dataframe thead th {\n",
       "        text-align: right;\n",
       "    }\n",
       "</style>\n",
       "<table border=\"1\" class=\"dataframe\">\n",
       "  <thead>\n",
       "    <tr style=\"text-align: right;\">\n",
       "      <th></th>\n",
       "      <th>model</th>\n",
       "      <th>R2_train</th>\n",
       "      <th>MAE_train</th>\n",
       "      <th>MAPE_train</th>\n",
       "      <th>RMSE_train</th>\n",
       "      <th>R2_test</th>\n",
       "      <th>MAE_test</th>\n",
       "      <th>MAPE_test</th>\n",
       "      <th>RMSE_test</th>\n",
       "    </tr>\n",
       "  </thead>\n",
       "  <tbody>\n",
       "    <tr>\n",
       "      <th>0</th>\n",
       "      <td>ANN</td>\n",
       "      <td>0.967387</td>\n",
       "      <td>4.214927</td>\n",
       "      <td>4.424806</td>\n",
       "      <td>7.244716</td>\n",
       "      <td>0.962608</td>\n",
       "      <td>5.324582</td>\n",
       "      <td>7.202797</td>\n",
       "      <td>8.02384</td>\n",
       "    </tr>\n",
       "  </tbody>\n",
       "</table>\n",
       "</div>"
      ]
     },
     "execution_count": 11,
     "metadata": {},
     "output_type": "execute_result"
    }
   ],
   "execution_count": 11
  },
  {
   "metadata": {
    "ExecuteTime": {
     "end_time": "2024-12-03T09:27:44.453600Z",
     "start_time": "2024-12-03T09:27:44.447888Z"
    }
   },
   "cell_type": "code",
   "source": [
    "ann_train = pd.DataFrame({'Actual': y_train, 'Predicted': y_train_pred.squeeze()})\n",
    "ann_test = pd.DataFrame({'Actual': y_test, 'Predicted': y_test_pred.squeeze()})\n",
    "ann_train.to_csv('ann_train.csv', index=False)\n",
    "ann_test.to_csv('ann_test.csv', index=False)"
   ],
   "id": "255cf4b834ba9c75",
   "outputs": [],
   "execution_count": 7
  }
 ],
 "metadata": {
  "kernelspec": {
   "display_name": "pytorch",
   "language": "python",
   "name": "pytorch"
  },
  "language_info": {
   "codemirror_mode": {
    "name": "ipython",
    "version": 2
   },
   "file_extension": ".py",
   "mimetype": "text/x-python",
   "name": "python",
   "nbconvert_exporter": "python",
   "pygments_lexer": "ipython2",
   "version": "2.7.6"
  }
 },
 "nbformat": 4,
 "nbformat_minor": 5
}
