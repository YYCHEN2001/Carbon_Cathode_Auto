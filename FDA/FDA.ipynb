{
 "cells": [
  {
   "metadata": {
    "ExecuteTime": {
     "end_time": "2024-11-18T14:05:21.860306Z",
     "start_time": "2024-11-18T14:05:21.853908Z"
    }
   },
   "cell_type": "code",
   "source": [
    "import pandas as pd\n",
    "\n",
    "# 读取数据\n",
    "data = pd.read_csv(\"../data/dataset.csv\")"
   ],
   "id": "763a2bdf8bdb62d3",
   "outputs": [],
   "execution_count": 2
  },
  {
   "metadata": {},
   "cell_type": "markdown",
   "source": "# 相关系数矩阵",
   "id": "f648e307b18bc568"
  },
  {
   "metadata": {
    "ExecuteTime": {
     "end_time": "2024-11-18T14:05:24.136363Z",
     "start_time": "2024-11-18T14:05:24.129159Z"
    }
   },
   "cell_type": "code",
   "source": [
    "# 计算相关系数\n",
    "corr = data.corr()\n",
    "\n",
    "# 输出corr矩阵为csv文件\n",
    "corr.round(2).to_csv('corr.csv')"
   ],
   "id": "b9ab050a272e3503",
   "outputs": [],
   "execution_count": 3
  },
  {
   "metadata": {
    "ExecuteTime": {
     "end_time": "2024-11-18T14:05:31.163415Z",
     "start_time": "2024-11-18T14:05:31.148547Z"
    }
   },
   "cell_type": "code",
   "source": [
    "# 数据分布统计\n",
    "statistics = data.describe(include='all')\n",
    "statistics_transposed = statistics.transpose().round(2)\n",
    "\n",
    "# 将统计结果保存到 csv 文件\n",
    "statistics_transposed.to_csv('statistics.csv')"
   ],
   "id": "b14ad1895059b1b7",
   "outputs": [],
   "execution_count": 5
  }
 ],
 "metadata": {
  "kernelspec": {
   "display_name": "pytorch",
   "language": "python",
   "name": "pytorch"
  },
  "language_info": {
   "codemirror_mode": {
    "name": "ipython",
    "version": 2
   },
   "file_extension": ".py",
   "mimetype": "text/x-python",
   "name": "python",
   "nbconvert_exporter": "python",
   "pygments_lexer": "ipython2",
   "version": "2.7.6"
  }
 },
 "nbformat": 4,
 "nbformat_minor": 5
}
